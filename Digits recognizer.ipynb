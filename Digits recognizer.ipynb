{
 "cells": [
  {
   "cell_type": "markdown",
   "metadata": {},
   "source": [
    "*Alonso Evan*\n",
    "\n",
    "*06/12/2019*\n",
    "\n",
    "\n",
    "----------\n",
    "\n",
    "This notebook aim to train Deep Learning, particularly Neural Networks. I am trying to understand various components of these Artificial Neural Networks ANN. If it could be useful to someone else, I'll would be glad. :)\n",
    "\n",
    "I am designing Neural Network on MNIST handwritten digits images to identify their correct label i.e number in image. We could called thaht an image recognition task. This data is provided by Kaggle.\n",
    "\n",
    "You must have guessed its an image recognition task.\n",
    "\n",
    "1. [Import packages](#1)\n",
    "1. [Load data](#2)\n",
    "1. [Preprocessing the digit images](#3)\n",
    "1. [Data Viz](#4)\n",
    "1. [Designing Neural Network Architecture](#5)\n",
    "1. [Compile network](#6)\n",
    "1. [A quick look at our model's performance](#7)\n",
    "1. [Submitting our first Predictions to Kaggle](#8)\n",
    "1. [Adding Batch Normalization](#9)\n",
    "1. [Submitting our second Predictions to Kaggle](#10)\n",
    "1. [Data augmentation](#11)\n",
    "1. [Submitting our third Predictions to Kaggle](#12)\n",
    "\n",
    "Let's dive into this !"
   ]
  },
  {
   "cell_type": "markdown",
   "metadata": {},
   "source": [
    "<a id=\"1\"></a> <br>\n",
    "## Import packages"
   ]
  },
  {
   "cell_type": "code",
   "execution_count": 2,
   "metadata": {},
   "outputs": [
    {
     "name": "stderr",
     "output_type": "stream",
     "text": [
      "Using TensorFlow backend.\n"
     ]
    }
   ],
   "source": [
    "# This Python 3 environment comes with many helpful analytics libraries installed\n",
    "\n",
    "import sys\n",
    "\n",
    "if not sys.warnoptions:\n",
    "    import warnings\n",
    "    warnings.simplefilter(\"ignore\")\n",
    "\n",
    "import pandas as pd\n",
    "import numpy as np\n",
    "import matplotlib.pyplot as plt\n",
    "import matplotlib.image as mpimg\n",
    "import seaborn as sns\n",
    "%matplotlib inline\n",
    "\n",
    "np.random.seed(4)\n",
    "\n",
    "from sklearn.model_selection import train_test_split\n",
    "from sklearn.metrics import confusion_matrix\n",
    "import itertools\n",
    "\n",
    "from keras.utils.np_utils import to_categorical # convert to one-hot-encoding\n",
    "from keras.models import Sequential\n",
    "from keras.layers import Dense, Dropout, Flatten, Conv2D, MaxPool2D\n",
    "from keras.optimizers import RMSprop\n",
    "from keras.preprocessing.image import ImageDataGenerator\n",
    "from keras.callbacks import ReduceLROnPlateau\n",
    "\n",
    "\n",
    "sns.set(style='white', context='notebook', palette='deep')"
   ]
  },
  {
   "cell_type": "markdown",
   "metadata": {},
   "source": [
    "<a id=\"2\"></a> <br>\n",
    "## Load Data"
   ]
  },
  {
   "cell_type": "code",
   "execution_count": 3,
   "metadata": {},
   "outputs": [
    {
     "name": "stdout",
     "output_type": "stream",
     "text": [
      "Train data size: (42000, 785)\n"
     ]
    },
    {
     "data": {
      "text/html": [
       "<div>\n",
       "<style scoped>\n",
       "    .dataframe tbody tr th:only-of-type {\n",
       "        vertical-align: middle;\n",
       "    }\n",
       "\n",
       "    .dataframe tbody tr th {\n",
       "        vertical-align: top;\n",
       "    }\n",
       "\n",
       "    .dataframe thead th {\n",
       "        text-align: right;\n",
       "    }\n",
       "</style>\n",
       "<table border=\"1\" class=\"dataframe\">\n",
       "  <thead>\n",
       "    <tr style=\"text-align: right;\">\n",
       "      <th></th>\n",
       "      <th>label</th>\n",
       "      <th>pixel0</th>\n",
       "      <th>pixel1</th>\n",
       "      <th>pixel2</th>\n",
       "      <th>pixel3</th>\n",
       "      <th>pixel4</th>\n",
       "      <th>pixel5</th>\n",
       "      <th>pixel6</th>\n",
       "      <th>pixel7</th>\n",
       "      <th>pixel8</th>\n",
       "      <th>...</th>\n",
       "      <th>pixel774</th>\n",
       "      <th>pixel775</th>\n",
       "      <th>pixel776</th>\n",
       "      <th>pixel777</th>\n",
       "      <th>pixel778</th>\n",
       "      <th>pixel779</th>\n",
       "      <th>pixel780</th>\n",
       "      <th>pixel781</th>\n",
       "      <th>pixel782</th>\n",
       "      <th>pixel783</th>\n",
       "    </tr>\n",
       "  </thead>\n",
       "  <tbody>\n",
       "    <tr>\n",
       "      <th>0</th>\n",
       "      <td>1</td>\n",
       "      <td>0</td>\n",
       "      <td>0</td>\n",
       "      <td>0</td>\n",
       "      <td>0</td>\n",
       "      <td>0</td>\n",
       "      <td>0</td>\n",
       "      <td>0</td>\n",
       "      <td>0</td>\n",
       "      <td>0</td>\n",
       "      <td>...</td>\n",
       "      <td>0</td>\n",
       "      <td>0</td>\n",
       "      <td>0</td>\n",
       "      <td>0</td>\n",
       "      <td>0</td>\n",
       "      <td>0</td>\n",
       "      <td>0</td>\n",
       "      <td>0</td>\n",
       "      <td>0</td>\n",
       "      <td>0</td>\n",
       "    </tr>\n",
       "    <tr>\n",
       "      <th>1</th>\n",
       "      <td>0</td>\n",
       "      <td>0</td>\n",
       "      <td>0</td>\n",
       "      <td>0</td>\n",
       "      <td>0</td>\n",
       "      <td>0</td>\n",
       "      <td>0</td>\n",
       "      <td>0</td>\n",
       "      <td>0</td>\n",
       "      <td>0</td>\n",
       "      <td>...</td>\n",
       "      <td>0</td>\n",
       "      <td>0</td>\n",
       "      <td>0</td>\n",
       "      <td>0</td>\n",
       "      <td>0</td>\n",
       "      <td>0</td>\n",
       "      <td>0</td>\n",
       "      <td>0</td>\n",
       "      <td>0</td>\n",
       "      <td>0</td>\n",
       "    </tr>\n",
       "    <tr>\n",
       "      <th>2</th>\n",
       "      <td>1</td>\n",
       "      <td>0</td>\n",
       "      <td>0</td>\n",
       "      <td>0</td>\n",
       "      <td>0</td>\n",
       "      <td>0</td>\n",
       "      <td>0</td>\n",
       "      <td>0</td>\n",
       "      <td>0</td>\n",
       "      <td>0</td>\n",
       "      <td>...</td>\n",
       "      <td>0</td>\n",
       "      <td>0</td>\n",
       "      <td>0</td>\n",
       "      <td>0</td>\n",
       "      <td>0</td>\n",
       "      <td>0</td>\n",
       "      <td>0</td>\n",
       "      <td>0</td>\n",
       "      <td>0</td>\n",
       "      <td>0</td>\n",
       "    </tr>\n",
       "    <tr>\n",
       "      <th>3</th>\n",
       "      <td>4</td>\n",
       "      <td>0</td>\n",
       "      <td>0</td>\n",
       "      <td>0</td>\n",
       "      <td>0</td>\n",
       "      <td>0</td>\n",
       "      <td>0</td>\n",
       "      <td>0</td>\n",
       "      <td>0</td>\n",
       "      <td>0</td>\n",
       "      <td>...</td>\n",
       "      <td>0</td>\n",
       "      <td>0</td>\n",
       "      <td>0</td>\n",
       "      <td>0</td>\n",
       "      <td>0</td>\n",
       "      <td>0</td>\n",
       "      <td>0</td>\n",
       "      <td>0</td>\n",
       "      <td>0</td>\n",
       "      <td>0</td>\n",
       "    </tr>\n",
       "    <tr>\n",
       "      <th>4</th>\n",
       "      <td>0</td>\n",
       "      <td>0</td>\n",
       "      <td>0</td>\n",
       "      <td>0</td>\n",
       "      <td>0</td>\n",
       "      <td>0</td>\n",
       "      <td>0</td>\n",
       "      <td>0</td>\n",
       "      <td>0</td>\n",
       "      <td>0</td>\n",
       "      <td>...</td>\n",
       "      <td>0</td>\n",
       "      <td>0</td>\n",
       "      <td>0</td>\n",
       "      <td>0</td>\n",
       "      <td>0</td>\n",
       "      <td>0</td>\n",
       "      <td>0</td>\n",
       "      <td>0</td>\n",
       "      <td>0</td>\n",
       "      <td>0</td>\n",
       "    </tr>\n",
       "  </tbody>\n",
       "</table>\n",
       "<p>5 rows × 785 columns</p>\n",
       "</div>"
      ],
      "text/plain": [
       "   label  pixel0  pixel1  pixel2  pixel3  pixel4  pixel5  pixel6  pixel7  \\\n",
       "0      1       0       0       0       0       0       0       0       0   \n",
       "1      0       0       0       0       0       0       0       0       0   \n",
       "2      1       0       0       0       0       0       0       0       0   \n",
       "3      4       0       0       0       0       0       0       0       0   \n",
       "4      0       0       0       0       0       0       0       0       0   \n",
       "\n",
       "   pixel8  ...  pixel774  pixel775  pixel776  pixel777  pixel778  pixel779  \\\n",
       "0       0  ...         0         0         0         0         0         0   \n",
       "1       0  ...         0         0         0         0         0         0   \n",
       "2       0  ...         0         0         0         0         0         0   \n",
       "3       0  ...         0         0         0         0         0         0   \n",
       "4       0  ...         0         0         0         0         0         0   \n",
       "\n",
       "   pixel780  pixel781  pixel782  pixel783  \n",
       "0         0         0         0         0  \n",
       "1         0         0         0         0  \n",
       "2         0         0         0         0  \n",
       "3         0         0         0         0  \n",
       "4         0         0         0         0  \n",
       "\n",
       "[5 rows x 785 columns]"
      ]
     },
     "execution_count": 3,
     "metadata": {},
     "output_type": "execute_result"
    }
   ],
   "source": [
    "train = pd.read_csv(\"train.csv\")\n",
    "print('Train data size:',train.shape)\n",
    "train.head()"
   ]
  },
  {
   "cell_type": "code",
   "execution_count": 4,
   "metadata": {},
   "outputs": [
    {
     "name": "stdout",
     "output_type": "stream",
     "text": [
      "Test data size: (28000, 784)\n"
     ]
    },
    {
     "data": {
      "text/html": [
       "<div>\n",
       "<style scoped>\n",
       "    .dataframe tbody tr th:only-of-type {\n",
       "        vertical-align: middle;\n",
       "    }\n",
       "\n",
       "    .dataframe tbody tr th {\n",
       "        vertical-align: top;\n",
       "    }\n",
       "\n",
       "    .dataframe thead th {\n",
       "        text-align: right;\n",
       "    }\n",
       "</style>\n",
       "<table border=\"1\" class=\"dataframe\">\n",
       "  <thead>\n",
       "    <tr style=\"text-align: right;\">\n",
       "      <th></th>\n",
       "      <th>pixel0</th>\n",
       "      <th>pixel1</th>\n",
       "      <th>pixel2</th>\n",
       "      <th>pixel3</th>\n",
       "      <th>pixel4</th>\n",
       "      <th>pixel5</th>\n",
       "      <th>pixel6</th>\n",
       "      <th>pixel7</th>\n",
       "      <th>pixel8</th>\n",
       "      <th>pixel9</th>\n",
       "      <th>...</th>\n",
       "      <th>pixel774</th>\n",
       "      <th>pixel775</th>\n",
       "      <th>pixel776</th>\n",
       "      <th>pixel777</th>\n",
       "      <th>pixel778</th>\n",
       "      <th>pixel779</th>\n",
       "      <th>pixel780</th>\n",
       "      <th>pixel781</th>\n",
       "      <th>pixel782</th>\n",
       "      <th>pixel783</th>\n",
       "    </tr>\n",
       "  </thead>\n",
       "  <tbody>\n",
       "    <tr>\n",
       "      <th>0</th>\n",
       "      <td>0</td>\n",
       "      <td>0</td>\n",
       "      <td>0</td>\n",
       "      <td>0</td>\n",
       "      <td>0</td>\n",
       "      <td>0</td>\n",
       "      <td>0</td>\n",
       "      <td>0</td>\n",
       "      <td>0</td>\n",
       "      <td>0</td>\n",
       "      <td>...</td>\n",
       "      <td>0</td>\n",
       "      <td>0</td>\n",
       "      <td>0</td>\n",
       "      <td>0</td>\n",
       "      <td>0</td>\n",
       "      <td>0</td>\n",
       "      <td>0</td>\n",
       "      <td>0</td>\n",
       "      <td>0</td>\n",
       "      <td>0</td>\n",
       "    </tr>\n",
       "    <tr>\n",
       "      <th>1</th>\n",
       "      <td>0</td>\n",
       "      <td>0</td>\n",
       "      <td>0</td>\n",
       "      <td>0</td>\n",
       "      <td>0</td>\n",
       "      <td>0</td>\n",
       "      <td>0</td>\n",
       "      <td>0</td>\n",
       "      <td>0</td>\n",
       "      <td>0</td>\n",
       "      <td>...</td>\n",
       "      <td>0</td>\n",
       "      <td>0</td>\n",
       "      <td>0</td>\n",
       "      <td>0</td>\n",
       "      <td>0</td>\n",
       "      <td>0</td>\n",
       "      <td>0</td>\n",
       "      <td>0</td>\n",
       "      <td>0</td>\n",
       "      <td>0</td>\n",
       "    </tr>\n",
       "    <tr>\n",
       "      <th>2</th>\n",
       "      <td>0</td>\n",
       "      <td>0</td>\n",
       "      <td>0</td>\n",
       "      <td>0</td>\n",
       "      <td>0</td>\n",
       "      <td>0</td>\n",
       "      <td>0</td>\n",
       "      <td>0</td>\n",
       "      <td>0</td>\n",
       "      <td>0</td>\n",
       "      <td>...</td>\n",
       "      <td>0</td>\n",
       "      <td>0</td>\n",
       "      <td>0</td>\n",
       "      <td>0</td>\n",
       "      <td>0</td>\n",
       "      <td>0</td>\n",
       "      <td>0</td>\n",
       "      <td>0</td>\n",
       "      <td>0</td>\n",
       "      <td>0</td>\n",
       "    </tr>\n",
       "    <tr>\n",
       "      <th>3</th>\n",
       "      <td>0</td>\n",
       "      <td>0</td>\n",
       "      <td>0</td>\n",
       "      <td>0</td>\n",
       "      <td>0</td>\n",
       "      <td>0</td>\n",
       "      <td>0</td>\n",
       "      <td>0</td>\n",
       "      <td>0</td>\n",
       "      <td>0</td>\n",
       "      <td>...</td>\n",
       "      <td>0</td>\n",
       "      <td>0</td>\n",
       "      <td>0</td>\n",
       "      <td>0</td>\n",
       "      <td>0</td>\n",
       "      <td>0</td>\n",
       "      <td>0</td>\n",
       "      <td>0</td>\n",
       "      <td>0</td>\n",
       "      <td>0</td>\n",
       "    </tr>\n",
       "    <tr>\n",
       "      <th>4</th>\n",
       "      <td>0</td>\n",
       "      <td>0</td>\n",
       "      <td>0</td>\n",
       "      <td>0</td>\n",
       "      <td>0</td>\n",
       "      <td>0</td>\n",
       "      <td>0</td>\n",
       "      <td>0</td>\n",
       "      <td>0</td>\n",
       "      <td>0</td>\n",
       "      <td>...</td>\n",
       "      <td>0</td>\n",
       "      <td>0</td>\n",
       "      <td>0</td>\n",
       "      <td>0</td>\n",
       "      <td>0</td>\n",
       "      <td>0</td>\n",
       "      <td>0</td>\n",
       "      <td>0</td>\n",
       "      <td>0</td>\n",
       "      <td>0</td>\n",
       "    </tr>\n",
       "  </tbody>\n",
       "</table>\n",
       "<p>5 rows × 784 columns</p>\n",
       "</div>"
      ],
      "text/plain": [
       "   pixel0  pixel1  pixel2  pixel3  pixel4  pixel5  pixel6  pixel7  pixel8  \\\n",
       "0       0       0       0       0       0       0       0       0       0   \n",
       "1       0       0       0       0       0       0       0       0       0   \n",
       "2       0       0       0       0       0       0       0       0       0   \n",
       "3       0       0       0       0       0       0       0       0       0   \n",
       "4       0       0       0       0       0       0       0       0       0   \n",
       "\n",
       "   pixel9  ...  pixel774  pixel775  pixel776  pixel777  pixel778  pixel779  \\\n",
       "0       0  ...         0         0         0         0         0         0   \n",
       "1       0  ...         0         0         0         0         0         0   \n",
       "2       0  ...         0         0         0         0         0         0   \n",
       "3       0  ...         0         0         0         0         0         0   \n",
       "4       0  ...         0         0         0         0         0         0   \n",
       "\n",
       "   pixel780  pixel781  pixel782  pixel783  \n",
       "0         0         0         0         0  \n",
       "1         0         0         0         0  \n",
       "2         0         0         0         0  \n",
       "3         0         0         0         0  \n",
       "4         0         0         0         0  \n",
       "\n",
       "[5 rows x 784 columns]"
      ]
     },
     "execution_count": 4,
     "metadata": {},
     "output_type": "execute_result"
    }
   ],
   "source": [
    "test = pd.read_csv(\"test.csv\")\n",
    "print('Test data size:',test.shape)\n",
    "test.head()"
   ]
  },
  {
   "cell_type": "markdown",
   "metadata": {},
   "source": [
    "<a id=\"3\"></a> <br>\n",
    "## Data Viz"
   ]
  },
  {
   "cell_type": "code",
   "execution_count": 5,
   "metadata": {},
   "outputs": [
    {
     "data": {
      "text/plain": [
       "1    4684\n",
       "7    4401\n",
       "3    4351\n",
       "9    4188\n",
       "2    4177\n",
       "6    4137\n",
       "0    4132\n",
       "4    4072\n",
       "8    4063\n",
       "5    3795\n",
       "Name: label, dtype: int64"
      ]
     },
     "execution_count": 5,
     "metadata": {},
     "output_type": "execute_result"
    },
    {
     "data": {
      "image/png": "[encoded data removed]",
      "text/plain": [
       "<Figure size 432x288 with 1 Axes>"
      ]
     },
     "metadata": {
      "needs_background": "light"
     },
     "output_type": "display_data"
    }
   ],
   "source": [
    "Y_train = train[\"label\"]\n",
    "X_train = train.drop(labels = [\"label\"],axis = 1)  \n",
    "\n",
    "del train \n",
    "\n",
    "g = sns.countplot(Y_train)\n",
    "\n",
    "Y_train.value_counts()"
   ]
  },
  {
   "cell_type": "markdown",
   "metadata": {},
   "source": [
    "The output variable is an integer from 0 to 9. This is a multiclass classification problem.\n",
    "\n",
    "She seems balanced, nice ! We clearly doesn't need oversampling or undersampling.\n",
    "\n",
    "\n",
    "Let's see if we have NULL values in our data sets."
   ]
  },
  {
   "cell_type": "code",
   "execution_count": 8,
   "metadata": {},
   "outputs": [
    {
     "data": {
      "text/plain": [
       "count       784\n",
       "unique        1\n",
       "top       False\n",
       "freq        784\n",
       "dtype: object"
      ]
     },
     "execution_count": 8,
     "metadata": {},
     "output_type": "execute_result"
    }
   ],
   "source": [
    "X_train.isnull().any().describe()"
   ]
  },
  {
   "cell_type": "code",
   "execution_count": 9,
   "metadata": {},
   "outputs": [
    {
     "data": {
      "text/plain": [
       "count       784\n",
       "unique        1\n",
       "top       False\n",
       "freq        784\n",
       "dtype: object"
      ]
     },
     "execution_count": 9,
     "metadata": {},
     "output_type": "execute_result"
    }
   ],
   "source": [
    "test.isnull().any().describe()"
   ]
  },
  {
   "cell_type": "markdown",
   "metadata": {},
   "source": [
    "It seems there are no NULL values ! That's convenient, but in real case that almost never the case. So watch out for that."
   ]
  },
  {
   "cell_type": "markdown",
   "metadata": {},
   "source": [
    "<a id=\"4\"></a> <br>\n",
    "## Preprocessing the digit images"
   ]
  },
  {
   "cell_type": "markdown",
   "metadata": {},
   "source": [
    "For a best performance of our model, we need to normalize our pixel (0 to 255) in our x_train and x_test so they could be included into [0:1]. \n",
    "Moreover the Convolutional Neural Networks (CNN) converg faster on [0..1] data than on [0..255]."
   ]
  },
  {
   "cell_type": "code",
   "execution_count": 6,
   "metadata": {},
   "outputs": [],
   "source": [
    "# Normalize the data\n",
    "X_train = X_train / 255.0\n",
    "test = test / 255.0"
   ]
  },
  {
   "cell_type": "markdown",
   "metadata": {},
   "source": [
    "There, we transform our x_train and x_test into 3 dimensions matrix (height = 28px, width = 28px , canal = 1)."
   ]
  },
  {
   "cell_type": "code",
   "execution_count": 7,
   "metadata": {},
   "outputs": [],
   "source": [
    "X_train = X_train.values.reshape(-1,28,28,1)\n",
    "test = test.values.reshape(-1,28,28,1)"
   ]
  },
  {
   "cell_type": "markdown",
   "metadata": {},
   "source": [
    "Let's encode our labels with the function to_categorical :"
   ]
  },
  {
   "cell_type": "code",
   "execution_count": 8,
   "metadata": {},
   "outputs": [],
   "source": [
    "# Encode labels to one hot vectors (ex : 4 -> [0,0,0,0,1,0,0,0,0,0]) with to_categorical\n",
    "\n",
    "Y_train = to_categorical(Y_train, num_classes = 10)"
   ]
  },
  {
   "cell_type": "markdown",
   "metadata": {},
   "source": [
    "Let's split our data !"
   ]
  },
  {
   "cell_type": "code",
   "execution_count": 9,
   "metadata": {},
   "outputs": [],
   "source": [
    "random_seed = 2\n",
    "\n",
    "# Split the train and the validation set for the fitting\n",
    "\n",
    "X_train, X_val, Y_train, Y_val = train_test_split(X_train, Y_train, test_size = 0.1, random_state=random_seed)"
   ]
  },
  {
   "cell_type": "markdown",
   "metadata": {},
   "source": [
    "I choosed to split the train set in two parts : a small fraction (10%) became the validation set which the model is evaluated and the rest (90%) is used to train the model.\n",
    "\n",
    "Since we have 42 000 training images of balanced labels, a random split of the train set doesn't cause some labels to be over represented in the validation set. Be careful with some unbalanced dataset a simple random split could cause inaccurate evaluation during the validation.\n",
    "\n",
    "To avoid that, you could use stratify = True option in train_test_split function (Only for >=0.17 sklearn versions).\n",
    "\n",
    "We can get a better sense for one of these examples by visualising the image and looking at the label."
   ]
  },
  {
   "cell_type": "code",
   "execution_count": 9,
   "metadata": {},
   "outputs": [
    {
     "data": {
      "image/png": "[encoded data removed]",
      "text/plain": [
       "<Figure size 432x288 with 1 Axes>"
      ]
     },
     "metadata": {},
     "output_type": "display_data"
    }
   ],
   "source": [
    "# Some examples\n",
    "g = plt.imshow(x_train[3][:,:,0])"
   ]
  },
  {
   "cell_type": "markdown",
   "metadata": {},
   "source": [
    "What a nice 4 !"
   ]
  },
  {
   "cell_type": "markdown",
   "metadata": {},
   "source": [
    "<a id=\"5\"></a> <br>\n",
    "## Designing Neural Network Architecture"
   ]
  },
  {
   "cell_type": "markdown",
   "metadata": {},
   "source": [
    "I used the Keras Sequential API, where you have just to add one layer at a time, starting from the input.\n",
    "\n",
    ">First let's create a sequential model\n",
    "\n",
    ">Then let's add two convolutional (Conv2D) layer with the following parameters :\n",
    "\n",
    "- nb_filter= 32 (filter's number). Each filter transforms a part of the image (defined by the kernel size) using the kernel filter. \n",
    "- nb_row= 5 , nb_col= 5, (Each filters have a 5x5 sizes)\n",
    "- padding = 'same'. It's the kernel filter\n",
    "- input_shape= (1,28,28) (images sizes, we need to mention it for the first Conv2D)\n",
    "- activation = 'relu'. 'relu' is the rectifier, the rectifier activation function is used to add non linearity to the network.\n",
    "\n",
    "\n",
    ">The second important layer in CNN is the pooling (MaxPool2D) layer. This layer simply acts as a downsampling filter. These are used to reduce computational cost, and to also reduce overfitting. We have to choose the pooling size, more the pooling dimension is high, more the downsampling is important.\n",
    "\n",
    "Combining convolutional and pooling layers, CNN are able to combine local features and learn more global features of the image.\n",
    "\n",
    "\n",
    ">Dropout is a regularization method, where a proportion of nodes in the layer are randomly ignored (setting their weights to zero) for each training sample. This drops randomly a propotion of the network and forces the network to learn features in a distributed way. This technique also improves generalization and reduces the overfitting.\n",
    "\n",
    "Here, we choose to drop 25% of the inputs.\n",
    "\n",
    ">After, we re use two Conv2D, this time with 64 filters and again a MaxPool2D and a Dropout\n",
    "\n",
    ">In the end, we use the Flatten layer to convert the final feature maps into a one single 1D vector. This flattening step is needed so that you can make use of fully connected layers after some convolutional/maxpool layers.  And after the Flatten layer, we add a fully-connected layer, with 256 neurons and the activation function \"relu\"\n",
    "\n",
    ">Another Dropout and finally the last fully-connected layer with 10 neurons (for 10 labels in output) and a activation function softmax to return distribution of probability of each class.\n",
    "\n",
    "The features in two fully-connected (Dense) layers  is just an artificial neural networks (ANN).\n",
    "\n",
    "This kind of Neural Networks are extremely efficient for image recognition ! Quite slow but we don't have that much data so it's all good.\n"
   ]
  },
  {
   "cell_type": "code",
   "execution_count": 14,
   "metadata": {},
   "outputs": [
    {
     "name": "stdout",
     "output_type": "stream",
     "text": [
      "WARNING:tensorflow:From C:\\Users\\Evan\\Anaconda3\\lib\\site-packages\\keras\\backend\\tensorflow_backend.py:4070: The name tf.nn.max_pool is deprecated. Please use tf.nn.max_pool2d instead.\n",
      "\n"
     ]
    }
   ],
   "source": [
    "model = Sequential()\n",
    "\n",
    "\n",
    "\n",
    "model.add(Conv2D(filters = 32, kernel_size = (5,5),padding = 'Same', \n",
    "                 activation ='relu', input_shape = (28,28,1)))\n",
    "model.add(Conv2D(filters = 32, kernel_size = (5,5),padding = 'Same', \n",
    "                 activation ='relu'))\n",
    "model.add(MaxPool2D(pool_size=(2,2)))\n",
    "model.add(Dropout(0.25))\n",
    "\n",
    "\n",
    "model.add(Conv2D(filters = 64, kernel_size = (3,3),padding = 'Same', \n",
    "                 activation ='relu'))\n",
    "model.add(Conv2D(filters = 64, kernel_size = (3,3),padding = 'Same', \n",
    "                 activation ='relu'))\n",
    "model.add(MaxPool2D(pool_size=(2,2), strides=(2,2)))\n",
    "model.add(Dropout(0.25))\n",
    "\n",
    "\n",
    "model.add(Flatten())\n",
    "model.add(Dense(256, activation = \"relu\"))\n",
    "model.add(Dropout(0.5))\n",
    "model.add(Dense(10, activation = \"softmax\"))"
   ]
  },
  {
   "cell_type": "markdown",
   "metadata": {},
   "source": [
    "<a id=\"6\"></a> <br>\n",
    "## Compile network"
   ]
  },
  {
   "cell_type": "markdown",
   "metadata": {},
   "source": [
    "That's it ! Our layers are added to the model. But before we fit our model, we need to set up the compile method with 3 parameters :\n",
    "\n",
    "- a loss function, to measure how poorly our model performs on images with known labels. It is the error rate between the oberved labels and the predicted ones. We use a specific form for categorical classifications (>2 classes) called the \"categorical_crossentropy\".\n",
    "\n",
    "- a score function, used to evaluate the model's performance. Here we will use the function \"accuracy\". This metric function is similar to the loss function, except that the results from the metric evaluation are not used when training the model (only for evaluation). Sometimes, this metric isn't really appropriate but here, i'ts the metric used by Kaggle so let's move on with her !\n",
    "\n",
    "- an optimisation algorithm (optimizer), it's the most important function. This will iteratively improve parameters (filters kernel values, weights and bias of neurons ...) in order to minimise the loss function.\n",
    "\n",
    "Here, I will choose RMSprop because it's a very effective optimizer."
   ]
  },
  {
   "cell_type": "code",
   "execution_count": 15,
   "metadata": {},
   "outputs": [],
   "source": [
    "# Define the optimizer\n",
    "optimizer = RMSprop(lr=0.001, rho=0.9, epsilon=1e-08, decay=0.0)"
   ]
  },
  {
   "cell_type": "code",
   "execution_count": 16,
   "metadata": {},
   "outputs": [],
   "source": [
    "# Compile the model\n",
    "model.compile(optimizer = optimizer , loss = \"categorical_crossentropy\", metrics=[\"accuracy\"])"
   ]
  },
  {
   "cell_type": "code",
   "execution_count": 17,
   "metadata": {},
   "outputs": [
    {
     "name": "stdout",
     "output_type": "stream",
     "text": [
      "Model: \"sequential_1\"\n",
      "_________________________________________________________________\n",
      "Layer (type)                 Output Shape              Param #   \n",
      "=================================================================\n",
      "conv2d_1 (Conv2D)            (None, 28, 28, 32)        832       \n",
      "_________________________________________________________________\n",
      "conv2d_2 (Conv2D)            (None, 28, 28, 32)        25632     \n",
      "_________________________________________________________________\n",
      "max_pooling2d_1 (MaxPooling2 (None, 14, 14, 32)        0         \n",
      "_________________________________________________________________\n",
      "dropout_1 (Dropout)          (None, 14, 14, 32)        0         \n",
      "_________________________________________________________________\n",
      "conv2d_3 (Conv2D)            (None, 14, 14, 64)        18496     \n",
      "_________________________________________________________________\n",
      "conv2d_4 (Conv2D)            (None, 14, 14, 64)        36928     \n",
      "_________________________________________________________________\n",
      "max_pooling2d_2 (MaxPooling2 (None, 7, 7, 64)          0         \n",
      "_________________________________________________________________\n",
      "dropout_2 (Dropout)          (None, 7, 7, 64)          0         \n",
      "_________________________________________________________________\n",
      "flatten_1 (Flatten)          (None, 3136)              0         \n",
      "_________________________________________________________________\n",
      "dense_1 (Dense)              (None, 256)               803072    \n",
      "_________________________________________________________________\n",
      "dropout_3 (Dropout)          (None, 256)               0         \n",
      "_________________________________________________________________\n",
      "dense_2 (Dense)              (None, 10)                2570      \n",
      "=================================================================\n",
      "Total params: 887,530\n",
      "Trainable params: 887,530\n",
      "Non-trainable params: 0\n",
      "_________________________________________________________________\n"
     ]
    }
   ],
   "source": [
    "model.summary()"
   ]
  },
  {
   "cell_type": "markdown",
   "metadata": {},
   "source": [
    "In order to make our optimizer converge faster and closest to the global minimum of our loss function (categorical_crossentropy), I will use an converging method of the learning rate.\n",
    "\n",
    "The learning rate is the step by which the optimizer walks through the 'loss landscape'. The higher learning rate, the bigger are the steps and the quicker is the convergence. However the sampling is very poor with an high learning rate and the optimizer could probably fall into a local minima, which is not especially good. We prefer fall into a global minimum, it's more efficiency !\n",
    "\n",
    "Its better to have a decreasing learning rate during the training to reach efficiently the global minimum of the loss function.\n",
    "\n",
    "To keep the advantage of the fast computation time with a high learning rate, we will decrease the learning rate dynamically every X steps (epochs) but only when the accuracy is not enhanced !\n",
    "\n",
    "With the ReduceLROnPlateau function from Keras.callbacks, I choose to reduce the learning rate by half if the accuracy is not improved after 3 epochs."
   ]
  },
  {
   "cell_type": "code",
   "execution_count": 18,
   "metadata": {},
   "outputs": [],
   "source": [
    "# Set a learning rate annealer\n",
    "learning_rate_reduction = ReduceLROnPlateau(monitor='val_acc', \n",
    "                                            patience=3, \n",
    "                                            verbose=1, \n",
    "                                            factor=0.5, \n",
    "                                            min_lr=0.00001)"
   ]
  },
  {
   "cell_type": "code",
   "execution_count": 19,
   "metadata": {},
   "outputs": [],
   "source": [
    "epochs = 30 \n",
    "batch_size = 86"
   ]
  },
  {
   "cell_type": "code",
   "execution_count": 21,
   "metadata": {},
   "outputs": [
    {
     "name": "stdout",
     "output_type": "stream",
     "text": [
      "WARNING:tensorflow:From C:\\Users\\Evan\\Anaconda3\\lib\\site-packages\\keras\\backend\\tensorflow_backend.py:422: The name tf.global_variables is deprecated. Please use tf.compat.v1.global_variables instead.\n",
      "\n",
      "Train on 37800 samples, validate on 4200 samples\n",
      "Epoch 1/30\n",
      " - 121s - loss: 0.2479 - accuracy: 0.9219 - val_loss: 0.0651 - val_accuracy: 0.9776\n",
      "Epoch 2/30\n",
      " - 152s - loss: 0.0741 - accuracy: 0.9782 - val_loss: 0.0581 - val_accuracy: 0.9852\n",
      "Epoch 3/30\n",
      " - 154s - loss: 0.0534 - accuracy: 0.9843 - val_loss: 0.0412 - val_accuracy: 0.9864\n",
      "Epoch 4/30\n",
      " - 154s - loss: 0.0449 - accuracy: 0.9866 - val_loss: 0.0439 - val_accuracy: 0.9876\n",
      "Epoch 5/30\n",
      " - 157s - loss: 0.0408 - accuracy: 0.9878 - val_loss: 0.0310 - val_accuracy: 0.9921\n",
      "Epoch 6/30\n",
      " - 158s - loss: 0.0374 - accuracy: 0.9889 - val_loss: 0.0302 - val_accuracy: 0.9912\n",
      "Epoch 7/30\n",
      " - 158s - loss: 0.0345 - accuracy: 0.9899 - val_loss: 0.0452 - val_accuracy: 0.9905\n",
      "Epoch 8/30\n",
      " - 135s - loss: 0.0320 - accuracy: 0.9904 - val_loss: 0.0457 - val_accuracy: 0.9905\n",
      "Epoch 9/30\n",
      " - 140s - loss: 0.0324 - accuracy: 0.9898 - val_loss: 0.0268 - val_accuracy: 0.9936\n",
      "Epoch 10/30\n",
      " - 152s - loss: 0.0321 - accuracy: 0.9905 - val_loss: 0.0313 - val_accuracy: 0.9910\n",
      "Epoch 11/30\n",
      " - 151s - loss: 0.0302 - accuracy: 0.9910 - val_loss: 0.0291 - val_accuracy: 0.9917\n",
      "Epoch 12/30\n",
      " - 151s - loss: 0.0272 - accuracy: 0.9920 - val_loss: 0.0423 - val_accuracy: 0.9907\n",
      "Epoch 13/30\n",
      " - 151s - loss: 0.0269 - accuracy: 0.9924 - val_loss: 0.0318 - val_accuracy: 0.9888\n",
      "Epoch 14/30\n",
      " - 151s - loss: 0.0267 - accuracy: 0.9926 - val_loss: 0.0354 - val_accuracy: 0.9895\n",
      "Epoch 15/30\n",
      " - 153s - loss: 0.0266 - accuracy: 0.9919 - val_loss: 0.0327 - val_accuracy: 0.9910\n",
      "Epoch 16/30\n",
      " - 148s - loss: 0.0264 - accuracy: 0.9930 - val_loss: 0.0302 - val_accuracy: 0.9919\n",
      "Epoch 17/30\n",
      " - 132s - loss: 0.0262 - accuracy: 0.9931 - val_loss: 0.0250 - val_accuracy: 0.9936\n",
      "Epoch 18/30\n",
      " - 118s - loss: 0.0271 - accuracy: 0.9926 - val_loss: 0.0289 - val_accuracy: 0.9926\n",
      "Epoch 19/30\n",
      " - 117s - loss: 0.0295 - accuracy: 0.9922 - val_loss: 0.0240 - val_accuracy: 0.9943\n",
      "Epoch 20/30\n",
      " - 114s - loss: 0.0283 - accuracy: 0.9924 - val_loss: 0.0366 - val_accuracy: 0.9888\n",
      "Epoch 21/30\n",
      " - 115s - loss: 0.0267 - accuracy: 0.9927 - val_loss: 0.0428 - val_accuracy: 0.9919\n",
      "Epoch 22/30\n",
      " - 131s - loss: 0.0272 - accuracy: 0.9921 - val_loss: 0.0308 - val_accuracy: 0.9926\n",
      "Epoch 23/30\n",
      " - 152s - loss: 0.0282 - accuracy: 0.9923 - val_loss: 0.0355 - val_accuracy: 0.9931\n",
      "Epoch 24/30\n",
      " - 150s - loss: 0.0269 - accuracy: 0.9925 - val_loss: 0.0303 - val_accuracy: 0.9919\n",
      "Epoch 25/30\n",
      " - 154s - loss: 0.0273 - accuracy: 0.9926 - val_loss: 0.0377 - val_accuracy: 0.9924\n",
      "Epoch 26/30\n",
      " - 151s - loss: 0.0284 - accuracy: 0.9923 - val_loss: 0.0268 - val_accuracy: 0.9931\n",
      "Epoch 27/30\n",
      " - 115s - loss: 0.0306 - accuracy: 0.9921 - val_loss: 0.0325 - val_accuracy: 0.9912\n",
      "Epoch 28/30\n",
      " - 106s - loss: 0.0311 - accuracy: 0.9922 - val_loss: 0.0412 - val_accuracy: 0.9914\n",
      "Epoch 29/30\n",
      " - 106s - loss: 0.0330 - accuracy: 0.9919 - val_loss: 0.0441 - val_accuracy: 0.9905\n",
      "Epoch 30/30\n",
      " - 108s - loss: 0.0352 - accuracy: 0.9916 - val_loss: 0.0383 - val_accuracy: 0.9929\n"
     ]
    }
   ],
   "source": [
    "history = model.fit(X_train, Y_train, batch_size = batch_size, epochs = epochs, \n",
    "         validation_data = (X_val, Y_val), verbose = 2, callbacks=[learning_rate_reduction])"
   ]
  },
  {
   "cell_type": "markdown",
   "metadata": {},
   "source": [
    "<a id=\"7\"></a> <br>\n",
    "## A quick look at our model's performance"
   ]
  },
  {
   "cell_type": "code",
   "execution_count": 26,
   "metadata": {},
   "outputs": [
    {
     "data": {
      "image/png": "[encoded data removed]",
      "text/plain": [
       "<Figure size 432x288 with 2 Axes>"
      ]
     },
     "metadata": {},
     "output_type": "display_data"
    }
   ],
   "source": [
    "# Plot the loss and accuracy curves for training and validation \n",
    "fig, ax = plt.subplots(2,1)\n",
    "ax[0].plot(history.history['loss'], color='b', label=\"Training loss\")\n",
    "ax[0].plot(history.history['val_loss'], color='r', label=\"validation loss\",axes =ax[0])\n",
    "legend = ax[0].legend(loc='best', shadow=True)\n",
    "\n",
    "ax[1].plot(history.history['accuracy'], color='b', label=\"Training accuracy\")\n",
    "ax[1].plot(history.history['val_accuracy'], color='r',label=\"Validation accuracy\")\n",
    "legend = ax[1].legend(loc='best', shadow=True)"
   ]
  },
  {
   "cell_type": "markdown",
   "metadata": {},
   "source": [
    "The model reaches almost 100% (99.29+%) accuracy on the validation dataset after 30 epochs. We can see that 30 epoch was too big, I think 5-10 would be enough. The validation accuracy is greater than the training accuracy almost every time during the training. That means that our model does not overfit the training set.\n",
    "\n",
    "Our model is very well trained !!!"
   ]
  },
  {
   "cell_type": "code",
   "execution_count": 27,
   "metadata": {},
   "outputs": [
    {
     "data": {
      "image/png": "[encoded data removed]",
      "text/plain": [
       "<Figure size 432x288 with 2 Axes>"
      ]
     },
     "metadata": {},
     "output_type": "display_data"
    }
   ],
   "source": [
    "# Look at confusion matrix \n",
    "\n",
    "def plot_confusion_matrix(cm, classes,\n",
    "                          normalize=False,\n",
    "                          title='Confusion matrix',\n",
    "                          cmap=plt.cm.Blues):\n",
    "    \"\"\"\n",
    "    This function prints and plots the confusion matrix.\n",
    "    Normalization can be applied by setting `normalize=True`.\n",
    "    \"\"\"\n",
    "    plt.imshow(cm, interpolation='nearest', cmap=cmap)\n",
    "    plt.title(title)\n",
    "    plt.colorbar()\n",
    "    tick_marks = np.arange(len(classes))\n",
    "    plt.xticks(tick_marks, classes, rotation=45)\n",
    "    plt.yticks(tick_marks, classes)\n",
    "\n",
    "    if normalize:\n",
    "        cm = cm.astype('float') / cm.sum(axis=1)[:, np.newaxis]\n",
    "\n",
    "    thresh = cm.max() / 2.\n",
    "    for i, j in itertools.product(range(cm.shape[0]), range(cm.shape[1])):\n",
    "        plt.text(j, i, cm[i, j],\n",
    "                 horizontalalignment=\"center\",\n",
    "                 color=\"white\" if cm[i, j] > thresh else \"black\")\n",
    "\n",
    "    plt.tight_layout()\n",
    "    plt.ylabel('True label')\n",
    "    plt.xlabel('Predicted label')\n",
    "\n",
    "# Predict the values from the validation dataset\n",
    "Y_pred = model.predict(X_val)\n",
    "# Convert predictions classes to one hot vectors \n",
    "Y_pred_classes = np.argmax(Y_pred,axis = 1) \n",
    "# Convert validation observations to one hot vectors\n",
    "Y_true = np.argmax(Y_val,axis = 1) \n",
    "# compute the confusion matrix\n",
    "confusion_mtx = confusion_matrix(Y_true, Y_pred_classes) \n",
    "# plot the confusion matrix\n",
    "plot_confusion_matrix(confusion_mtx, classes = range(10)) "
   ]
  },
  {
   "cell_type": "markdown",
   "metadata": {},
   "source": [
    "Here we can see that our CNN performs very well on all digits with few errors considering the size of the validation set (4 200 images).\n",
    "\n",
    "However, it seems that our CNN has some little troubles with the 4 digits, they are misclassified as 6 and 9. Sometime it's very difficult to catch the difference between  4 and 9 when curves are smooth."
   ]
  },
  {
   "cell_type": "markdown",
   "metadata": {},
   "source": [
    "<a id=\"8\"></a> <br>\n",
    "## Submitting our first Predictions to Kaggle"
   ]
  },
  {
   "cell_type": "code",
   "execution_count": null,
   "metadata": {},
   "outputs": [],
   "source": [
    "# predict results\n",
    "results = model.predict(test)\n",
    "\n",
    "# select the indix with the maximum probability\n",
    "results = np.argmax(results,axis = 1)\n",
    "\n",
    "results = pd.Series(results,name=\"Label\")"
   ]
  },
  {
   "cell_type": "code",
   "execution_count": null,
   "metadata": {},
   "outputs": [],
   "source": [
    "submission1 = pd.concat([pd.Series(range(1,28001),name = \"ImageId\"),results],axis = 1)\n",
    "\n",
    "submission.to_csv(\"submission1.csv\",index=False)"
   ]
  },
  {
   "cell_type": "markdown",
   "metadata": {},
   "source": [
    "We obtained **0.99042 kaggle submission accuracy**, we are 873 on 2303. Not bad, but not good enough as well. Let's see if we can optimize this."
   ]
  },
  {
   "cell_type": "markdown",
   "metadata": {},
   "source": [
    "Let's try our neural network but this time with *BatchNormalization*. It helps to tune hyperparameters much efficiently and train really deep neural networks."
   ]
  },
  {
   "cell_type": "markdown",
   "metadata": {},
   "source": [
    "<a id=\"9\"></a> <br>\n",
    "## Adding Batch Normalization"
   ]
  },
  {
   "cell_type": "code",
   "execution_count": 11,
   "metadata": {},
   "outputs": [],
   "source": [
    "from keras.layers.normalization import BatchNormalization"
   ]
  },
  {
   "cell_type": "code",
   "execution_count": 12,
   "metadata": {},
   "outputs": [
    {
     "name": "stdout",
     "output_type": "stream",
     "text": [
      "WARNING:tensorflow:From C:\\Users\\Evan\\Anaconda3\\lib\\site-packages\\keras\\backend\\tensorflow_backend.py:4070: The name tf.nn.max_pool is deprecated. Please use tf.nn.max_pool2d instead.\n",
      "\n"
     ]
    }
   ],
   "source": [
    "model = Sequential()\n",
    "\n",
    "\n",
    "\n",
    "model.add(Conv2D(filters = 32, kernel_size = (5,5),padding = 'Same', \n",
    "                 activation ='relu', input_shape = (28,28,1)))\n",
    "model.add(BatchNormalization(axis = 1)),\n",
    "model.add(Conv2D(filters = 32, kernel_size = (5,5),padding = 'Same', \n",
    "                 activation ='relu'))\n",
    "model.add(MaxPool2D(pool_size=(2,2)))\n",
    "model.add(BatchNormalization(axis = 1)),\n",
    "model.add(Dropout(0.25))\n",
    "\n",
    "\n",
    "model.add(Conv2D(filters = 64, kernel_size = (3,3),padding = 'Same', \n",
    "                 activation ='relu'))\n",
    "model.add(BatchNormalization(axis = 1))\n",
    "model.add(Conv2D(filters = 64, kernel_size = (3,3),padding = 'Same', \n",
    "                 activation ='relu'))\n",
    "model.add(MaxPool2D(pool_size=(2,2), strides=(2,2)))\n",
    "model.add(Dropout(0.25))\n",
    "\n",
    "\n",
    "model.add(Flatten())\n",
    "model.add(BatchNormalization())\n",
    "model.add(Dense(256, activation = \"relu\"))\n",
    "model.add(BatchNormalization())\n",
    "model.add(Dropout(0.5))\n",
    "model.add(Dense(10, activation = \"softmax\"))"
   ]
  },
  {
   "cell_type": "markdown",
   "metadata": {},
   "source": [
    "As you can see, I added some lines in my CNN. Let's see if these lines with BatchNormalization will enhanced my performance."
   ]
  },
  {
   "cell_type": "code",
   "execution_count": 13,
   "metadata": {},
   "outputs": [],
   "source": [
    "# Define the optimizer\n",
    "optimizer = RMSprop(lr=0.001, rho=0.9, epsilon=1e-08, decay=0.0)\n",
    "# Compile the model\n",
    "model.compile(optimizer = optimizer, loss = \"categorical_crossentropy\", metrics=[\"accuracy\"])"
   ]
  },
  {
   "cell_type": "code",
   "execution_count": 14,
   "metadata": {},
   "outputs": [],
   "source": [
    "# Set a learning rate annealer\n",
    "learning_rate_reduction = ReduceLROnPlateau(monitor='val_acc', \n",
    "                                            patience=3, \n",
    "                                            verbose=1, \n",
    "                                            factor=0.5, \n",
    "                                            min_lr=0.00001)"
   ]
  },
  {
   "cell_type": "code",
   "execution_count": 18,
   "metadata": {},
   "outputs": [],
   "source": [
    "epochs = 30 \n",
    "batch_size = 86"
   ]
  },
  {
   "cell_type": "code",
   "execution_count": 19,
   "metadata": {},
   "outputs": [
    {
     "name": "stdout",
     "output_type": "stream",
     "text": [
      "Train on 37800 samples, validate on 4200 samples\n",
      "Epoch 1/30\n",
      " - 229s - loss: 0.0741 - accuracy: 0.9778 - val_loss: 0.0544 - val_accuracy: 0.9852\n",
      "Epoch 2/30\n",
      " - 228s - loss: 0.0538 - accuracy: 0.9837 - val_loss: 0.0410 - val_accuracy: 0.9890\n",
      "Epoch 3/30\n",
      " - 232s - loss: 0.0448 - accuracy: 0.9860 - val_loss: 0.0476 - val_accuracy: 0.9886\n",
      "Epoch 4/30\n",
      " - 153s - loss: 0.0402 - accuracy: 0.9880 - val_loss: 0.0320 - val_accuracy: 0.9893\n",
      "Epoch 5/30\n",
      " - 137s - loss: 0.0349 - accuracy: 0.9893 - val_loss: 0.0321 - val_accuracy: 0.9907\n",
      "Epoch 6/30\n",
      " - 137s - loss: 0.0320 - accuracy: 0.9902 - val_loss: 0.0360 - val_accuracy: 0.9912\n",
      "Epoch 7/30\n",
      " - 135s - loss: 0.0269 - accuracy: 0.9914 - val_loss: 0.0247 - val_accuracy: 0.9924\n",
      "Epoch 8/30\n",
      " - 135s - loss: 0.0260 - accuracy: 0.9923 - val_loss: 0.0453 - val_accuracy: 0.9881\n",
      "Epoch 9/30\n",
      " - 132s - loss: 0.0250 - accuracy: 0.9925 - val_loss: 0.0328 - val_accuracy: 0.9926\n",
      "Epoch 10/30\n",
      " - 132s - loss: 0.0232 - accuracy: 0.9929 - val_loss: 0.0289 - val_accuracy: 0.9929\n",
      "Epoch 11/30\n",
      " - 130s - loss: 0.0217 - accuracy: 0.9932 - val_loss: 0.0297 - val_accuracy: 0.9919\n",
      "Epoch 12/30\n",
      " - 129s - loss: 0.0216 - accuracy: 0.9930 - val_loss: 0.0288 - val_accuracy: 0.9938\n",
      "Epoch 13/30\n",
      " - 139s - loss: 0.0186 - accuracy: 0.9942 - val_loss: 0.0265 - val_accuracy: 0.9931\n",
      "Epoch 14/30\n",
      " - 144s - loss: 0.0188 - accuracy: 0.9947 - val_loss: 0.0232 - val_accuracy: 0.9950\n",
      "Epoch 15/30\n",
      " - 140s - loss: 0.0161 - accuracy: 0.9949 - val_loss: 0.0368 - val_accuracy: 0.9919\n",
      "Epoch 16/30\n",
      " - 141s - loss: 0.0155 - accuracy: 0.9953 - val_loss: 0.0266 - val_accuracy: 0.9938\n",
      "Epoch 17/30\n",
      " - 146s - loss: 0.0156 - accuracy: 0.9951 - val_loss: 0.0186 - val_accuracy: 0.9931\n",
      "Epoch 18/30\n",
      " - 149s - loss: 0.0157 - accuracy: 0.9954 - val_loss: 0.0194 - val_accuracy: 0.9943\n",
      "Epoch 19/30\n",
      " - 139s - loss: 0.0136 - accuracy: 0.9956 - val_loss: 0.0331 - val_accuracy: 0.9933\n",
      "Epoch 20/30\n",
      " - 138s - loss: 0.0141 - accuracy: 0.9956 - val_loss: 0.0304 - val_accuracy: 0.9933\n",
      "Epoch 21/30\n",
      " - 141s - loss: 0.0124 - accuracy: 0.9962 - val_loss: 0.0260 - val_accuracy: 0.9938\n",
      "Epoch 22/30\n",
      " - 159s - loss: 0.0134 - accuracy: 0.9959 - val_loss: 0.0429 - val_accuracy: 0.9940\n",
      "Epoch 23/30\n",
      " - 139s - loss: 0.0117 - accuracy: 0.9965 - val_loss: 0.0329 - val_accuracy: 0.9931\n",
      "Epoch 24/30\n",
      " - 152s - loss: 0.0112 - accuracy: 0.9969 - val_loss: 0.0274 - val_accuracy: 0.9950\n",
      "Epoch 25/30\n",
      " - 150s - loss: 0.0114 - accuracy: 0.9966 - val_loss: 0.0333 - val_accuracy: 0.9940\n",
      "Epoch 26/30\n",
      " - 163s - loss: 0.0110 - accuracy: 0.9961 - val_loss: 0.0349 - val_accuracy: 0.9938\n",
      "Epoch 27/30\n",
      " - 152s - loss: 0.0102 - accuracy: 0.9968 - val_loss: 0.0346 - val_accuracy: 0.9929\n",
      "Epoch 28/30\n",
      " - 152s - loss: 0.0110 - accuracy: 0.9971 - val_loss: 0.0221 - val_accuracy: 0.9957\n",
      "Epoch 29/30\n",
      " - 141s - loss: 0.0103 - accuracy: 0.9966 - val_loss: 0.0338 - val_accuracy: 0.9936\n",
      "Epoch 30/30\n",
      " - 142s - loss: 0.0100 - accuracy: 0.9967 - val_loss: 0.0370 - val_accuracy: 0.9926\n"
     ]
    }
   ],
   "source": [
    "history = model.fit(X_train, Y_train, batch_size = batch_size, epochs = epochs, \n",
    "         validation_data = (X_val, Y_val), verbose = 2, callbacks=[learning_rate_reduction])"
   ]
  },
  {
   "cell_type": "markdown",
   "metadata": {},
   "source": [
    "It's much longer than without BatchNormalization. I would recommend to use it with the appropriate computer if you train it on huge database (and it's almost always the case in real life). Otherwise, it'll took forever."
   ]
  },
  {
   "cell_type": "code",
   "execution_count": 20,
   "metadata": {},
   "outputs": [
    {
     "data": {
      "image/png": "[encoded data removed]",
      "text/plain": [
       "<Figure size 432x288 with 2 Axes>"
      ]
     },
     "metadata": {
      "needs_background": "light"
     },
     "output_type": "display_data"
    }
   ],
   "source": [
    "# Plot the loss and accuracy curves for training and validation \n",
    "fig, ax = plt.subplots(2,1)\n",
    "ax[0].plot(history.history['loss'], color='b', label=\"Training loss\")\n",
    "ax[0].plot(history.history['val_loss'], color='r', label=\"validation loss\",axes =ax[0])\n",
    "legend = ax[0].legend(loc='best', shadow=True)\n",
    "\n",
    "ax[1].plot(history.history['accuracy'], color='b', label=\"Training accuracy\")\n",
    "ax[1].plot(history.history['val_accuracy'], color='r',label=\"Validation accuracy\")\n",
    "legend = ax[1].legend(loc='best', shadow=True)"
   ]
  },
  {
   "cell_type": "markdown",
   "metadata": {},
   "source": [
    "Hmm our model seems to overfit. But just a little. "
   ]
  },
  {
   "cell_type": "code",
   "execution_count": 21,
   "metadata": {},
   "outputs": [
    {
     "data": {
      "image/png": "[encoded data removed]",
      "text/plain": [
       "<Figure size 432x288 with 2 Axes>"
      ]
     },
     "metadata": {
      "needs_background": "light"
     },
     "output_type": "display_data"
    }
   ],
   "source": [
    "# Look at confusion matrix \n",
    "\n",
    "def plot_confusion_matrix(cm, classes,\n",
    "                          normalize=False,\n",
    "                          title='Confusion matrix',\n",
    "                          cmap=plt.cm.Blues):\n",
    "    \"\"\"\n",
    "    This function prints and plots the confusion matrix.\n",
    "    Normalization can be applied by setting `normalize=True`.\n",
    "    \"\"\"\n",
    "    plt.imshow(cm, interpolation='nearest', cmap=cmap)\n",
    "    plt.title(title)\n",
    "    plt.colorbar()\n",
    "    tick_marks = np.arange(len(classes))\n",
    "    plt.xticks(tick_marks, classes, rotation=45)\n",
    "    plt.yticks(tick_marks, classes)\n",
    "\n",
    "    if normalize:\n",
    "        cm = cm.astype('float') / cm.sum(axis=1)[:, np.newaxis]\n",
    "\n",
    "    thresh = cm.max() / 2.\n",
    "    for i, j in itertools.product(range(cm.shape[0]), range(cm.shape[1])):\n",
    "        plt.text(j, i, cm[i, j],\n",
    "                 horizontalalignment=\"center\",\n",
    "                 color=\"white\" if cm[i, j] > thresh else \"black\")\n",
    "\n",
    "    plt.tight_layout()\n",
    "    plt.ylabel('True label')\n",
    "    plt.xlabel('Predicted label')\n",
    "\n",
    "# Predict the values from the validation dataset\n",
    "Y_pred = model.predict(X_val)\n",
    "# Convert predictions classes to one hot vectors \n",
    "Y_pred_classes = np.argmax(Y_pred,axis = 1) \n",
    "# Convert validation observations to one hot vectors\n",
    "Y_true = np.argmax(Y_val,axis = 1) \n",
    "# compute the confusion matrix\n",
    "confusion_mtx = confusion_matrix(Y_true, Y_pred_classes) \n",
    "# plot the confusion matrix\n",
    "plot_confusion_matrix(confusion_mtx, classes = range(10)) "
   ]
  },
  {
   "cell_type": "markdown",
   "metadata": {},
   "source": [
    "<a id=\"10\"></a> <br>\n",
    "## Submitting our second Predictions to Kaggle"
   ]
  },
  {
   "cell_type": "code",
   "execution_count": 22,
   "metadata": {},
   "outputs": [],
   "source": [
    "# predict results\n",
    "results = model.predict(test)\n",
    "\n",
    "# select the indix with the maximum probability\n",
    "results = np.argmax(results,axis = 1)\n",
    "\n",
    "results = pd.Series(results,name=\"Label\")"
   ]
  },
  {
   "cell_type": "code",
   "execution_count": 23,
   "metadata": {},
   "outputs": [],
   "source": [
    "submission2 = pd.concat([pd.Series(range(1,28001),name = \"ImageId\"),results],axis = 1)\n",
    "\n",
    "submission2.to_csv(\"submission2.csv\",index=False)"
   ]
  },
  {
   "cell_type": "markdown",
   "metadata": {},
   "source": [
    "This new model give me *0.99157* instead of 0.99042. It's not much but at this point, it's huge ! I advanced 108 places on the leaderboard, nice !\n",
    "But can I do better again ? Let's see.\n",
    "\n",
    "<a id=\"11\"></a> <br>\n",
    "## Data augmentation"
   ]
  },
  {
   "cell_type": "markdown",
   "metadata": {},
   "source": [
    "In order to avoid overfitting problem, we need to expand artificially our handwritten digit dataset. We can make the existing kaggle dataset even larger. The idea is to alter the training data with small transformations to reproduce the variations occuring when someone is writing a digit.\n",
    "\n",
    "\n",
    "Approches that alter the training data in ways that change the array representation while keeping the label the same are known as data augmentation techniques. Some popular augmentations people use are grayscales, horizontal flips, vertical flips, random crops, color jitters, translations, rotations, and much more.\n",
    "\n",
    "By applying just a couple of these transformations to our training data, we can easily double or triple the number of training examples and create a very robust model. Let's try !"
   ]
  },
  {
   "cell_type": "markdown",
   "metadata": {},
   "source": [
    "For the data augmentation, I choosed to :\n",
    "\n",
    "- Randomly rotate some training images by 8 degrees\n",
    "- Randomly Zoom by 0.8% some training images\n",
    "- Randomly shift images horizontally by 10% of the width\n",
    "- Randomly shift images vertically by 10% of the height\n",
    "I did not apply a vertical_flip nor horizontal_flip since it could have lead to misclassify symetrical numbers such as 6 and 9.\n",
    "\n",
    "Once our model is ready, we fit the training dataset ."
   ]
  },
  {
   "cell_type": "code",
   "execution_count": 25,
   "metadata": {},
   "outputs": [
    {
     "name": "stdout",
     "output_type": "stream",
     "text": [
      "Epoch 1/30\n",
      " - 144s - loss: 0.0851 - accuracy: 0.9796 - val_loss: 0.0319 - val_accuracy: 0.9921\n",
      "Epoch 2/30\n",
      " - 184s - loss: 0.0541 - accuracy: 0.9850 - val_loss: 0.0241 - val_accuracy: 0.9943\n",
      "Epoch 3/30\n",
      " - 254s - loss: 0.0537 - accuracy: 0.9858 - val_loss: 0.0312 - val_accuracy: 0.9936\n",
      "Epoch 4/30\n",
      " - 253s - loss: 0.0492 - accuracy: 0.9858 - val_loss: 0.0267 - val_accuracy: 0.9933\n",
      "Epoch 5/30\n",
      " - 253s - loss: 0.0446 - accuracy: 0.9871 - val_loss: 0.0198 - val_accuracy: 0.9938\n",
      "Epoch 6/30\n",
      " - 252s - loss: 0.0445 - accuracy: 0.9874 - val_loss: 0.0240 - val_accuracy: 0.9933\n",
      "Epoch 7/30\n",
      " - 253s - loss: 0.0375 - accuracy: 0.9889 - val_loss: 0.0203 - val_accuracy: 0.9933\n",
      "Epoch 8/30\n",
      " - 253s - loss: 0.0400 - accuracy: 0.9894 - val_loss: 0.0220 - val_accuracy: 0.9945\n",
      "Epoch 9/30\n",
      " - 253s - loss: 0.0356 - accuracy: 0.9894 - val_loss: 0.0285 - val_accuracy: 0.9929\n",
      "Epoch 10/30\n",
      " - 251s - loss: 0.0368 - accuracy: 0.9889 - val_loss: 0.0261 - val_accuracy: 0.9938\n",
      "Epoch 11/30\n",
      " - 251s - loss: 0.0342 - accuracy: 0.9899 - val_loss: 0.0278 - val_accuracy: 0.9940\n",
      "Epoch 12/30\n",
      " - 251s - loss: 0.0330 - accuracy: 0.9902 - val_loss: 0.0228 - val_accuracy: 0.9940\n",
      "Epoch 13/30\n",
      " - 251s - loss: 0.0296 - accuracy: 0.9910 - val_loss: 0.0236 - val_accuracy: 0.9948\n",
      "Epoch 14/30\n",
      " - 250s - loss: 0.0299 - accuracy: 0.9909 - val_loss: 0.0193 - val_accuracy: 0.9948\n",
      "Epoch 15/30\n",
      " - 248s - loss: 0.0304 - accuracy: 0.9917 - val_loss: 0.0238 - val_accuracy: 0.9936\n",
      "Epoch 16/30\n",
      " - 248s - loss: 0.0286 - accuracy: 0.9916 - val_loss: 0.0288 - val_accuracy: 0.9940\n",
      "Epoch 17/30\n",
      " - 150s - loss: 0.0317 - accuracy: 0.9907 - val_loss: 0.0177 - val_accuracy: 0.9950\n",
      "Epoch 18/30\n",
      " - 135s - loss: 0.0288 - accuracy: 0.9914 - val_loss: 0.0245 - val_accuracy: 0.9936\n",
      "Epoch 19/30\n",
      " - 134s - loss: 0.0264 - accuracy: 0.9919 - val_loss: 0.0181 - val_accuracy: 0.9948\n",
      "Epoch 20/30\n",
      " - 139s - loss: 0.0311 - accuracy: 0.9912 - val_loss: 0.0251 - val_accuracy: 0.9940\n",
      "Epoch 21/30\n",
      " - 185s - loss: 0.0286 - accuracy: 0.9918 - val_loss: 0.0352 - val_accuracy: 0.9921\n",
      "Epoch 22/30\n",
      " - 190s - loss: 0.0324 - accuracy: 0.9910 - val_loss: 0.0211 - val_accuracy: 0.9945\n",
      "Epoch 23/30\n",
      " - 192s - loss: 0.0270 - accuracy: 0.9922 - val_loss: 0.0195 - val_accuracy: 0.9952\n",
      "Epoch 24/30\n",
      " - 194s - loss: 0.0268 - accuracy: 0.9915 - val_loss: 0.0269 - val_accuracy: 0.9933\n",
      "Epoch 25/30\n",
      " - 172s - loss: 0.0282 - accuracy: 0.9914 - val_loss: 0.0181 - val_accuracy: 0.9948\n",
      "Epoch 26/30\n",
      " - 130s - loss: 0.0289 - accuracy: 0.9921 - val_loss: 0.0270 - val_accuracy: 0.9936\n",
      "Epoch 27/30\n",
      " - 130s - loss: 0.0297 - accuracy: 0.9913 - val_loss: 0.0243 - val_accuracy: 0.9945\n",
      "Epoch 28/30\n",
      " - 142s - loss: 0.0267 - accuracy: 0.9926 - val_loss: 0.0235 - val_accuracy: 0.9943\n",
      "Epoch 29/30\n",
      " - 197s - loss: 0.0247 - accuracy: 0.9927 - val_loss: 0.0223 - val_accuracy: 0.9948\n",
      "Epoch 30/30\n",
      " - 223s - loss: 0.0247 - accuracy: 0.9925 - val_loss: 0.0229 - val_accuracy: 0.9945\n"
     ]
    }
   ],
   "source": [
    "datagen =ImageDataGenerator(rotation_range=8, width_shift_range=0.08, shear_range=0.3,  width_shift_range=0.1, \n",
    "                            height_shift_range=0.1, zoom_range=0.08)\n",
    "\n",
    "history = model.fit_generator(datagen.flow(X_train,Y_train, batch_size=batch_size),\n",
    "                              epochs = epochs, validation_data = (X_val,Y_val),\n",
    "                              verbose = 2, steps_per_epoch=X_train.shape[0] // batch_size\n",
    "                              , callbacks=[learning_rate_reduction])"
   ]
  },
  {
   "cell_type": "code",
   "execution_count": 26,
   "metadata": {},
   "outputs": [
    {
     "data": {
      "image/png": "[encoded data removed]",
      "text/plain": [
       "<Figure size 432x288 with 2 Axes>"
      ]
     },
     "metadata": {
      "needs_background": "light"
     },
     "output_type": "display_data"
    }
   ],
   "source": [
    "# Plot the loss and accuracy curves for training and validation \n",
    "fig, ax = plt.subplots(2,1)\n",
    "ax[0].plot(history.history['loss'], color='b', label=\"Training loss\")\n",
    "ax[0].plot(history.history['val_loss'], color='r', label=\"validation loss\",axes =ax[0])\n",
    "legend = ax[0].legend(loc='best', shadow=True)\n",
    "\n",
    "ax[1].plot(history.history['accuracy'], color='b', label=\"Training accuracy\")\n",
    "ax[1].plot(history.history['val_accuracy'], color='r',label=\"Validation accuracy\")\n",
    "legend = ax[1].legend(loc='best', shadow=True)"
   ]
  },
  {
   "cell_type": "code",
   "execution_count": 27,
   "metadata": {},
   "outputs": [
    {
     "data": {
      "image/png": "[encoded data removed]",
      "text/plain": [
       "<Figure size 432x288 with 2 Axes>"
      ]
     },
     "metadata": {
      "needs_background": "light"
     },
     "output_type": "display_data"
    }
   ],
   "source": [
    "# Look at confusion matrix \n",
    "\n",
    "def plot_confusion_matrix(cm, classes,\n",
    "                          normalize=False,\n",
    "                          title='Confusion matrix',\n",
    "                          cmap=plt.cm.Blues):\n",
    "    \"\"\"\n",
    "    This function prints and plots the confusion matrix.\n",
    "    Normalization can be applied by setting `normalize=True`.\n",
    "    \"\"\"\n",
    "    plt.imshow(cm, interpolation='nearest', cmap=cmap)\n",
    "    plt.title(title)\n",
    "    plt.colorbar()\n",
    "    tick_marks = np.arange(len(classes))\n",
    "    plt.xticks(tick_marks, classes, rotation=45)\n",
    "    plt.yticks(tick_marks, classes)\n",
    "\n",
    "    if normalize:\n",
    "        cm = cm.astype('float') / cm.sum(axis=1)[:, np.newaxis]\n",
    "\n",
    "    thresh = cm.max() / 2.\n",
    "    for i, j in itertools.product(range(cm.shape[0]), range(cm.shape[1])):\n",
    "        plt.text(j, i, cm[i, j],\n",
    "                 horizontalalignment=\"center\",\n",
    "                 color=\"white\" if cm[i, j] > thresh else \"black\")\n",
    "\n",
    "    plt.tight_layout()\n",
    "    plt.ylabel('True label')\n",
    "    plt.xlabel('Predicted label')\n",
    "\n",
    "# Predict the values from the validation dataset\n",
    "Y_pred = model.predict(X_val)\n",
    "# Convert predictions classes to one hot vectors \n",
    "Y_pred_classes = np.argmax(Y_pred,axis = 1) \n",
    "# Convert validation observations to one hot vectors\n",
    "Y_true = np.argmax(Y_val,axis = 1) \n",
    "# compute the confusion matrix\n",
    "confusion_mtx = confusion_matrix(Y_true, Y_pred_classes) \n",
    "# plot the confusion matrix\n",
    "plot_confusion_matrix(confusion_mtx, classes = range(10)) "
   ]
  },
  {
   "cell_type": "markdown",
   "metadata": {},
   "source": [
    "<a id=\"12\"></a> <br>\n",
    "## Submitting our third Predictions to Kaggle"
   ]
  },
  {
   "cell_type": "code",
   "execution_count": 28,
   "metadata": {},
   "outputs": [],
   "source": [
    "# predict results\n",
    "results = model.predict(test)\n",
    "\n",
    "# select the indix with the maximum probability\n",
    "results = np.argmax(results,axis = 1)\n",
    "\n",
    "results = pd.Series(results,name=\"Label\")"
   ]
  },
  {
   "cell_type": "code",
   "execution_count": 29,
   "metadata": {},
   "outputs": [],
   "source": [
    "submission3 = pd.concat([pd.Series(range(1,28001),name = \"ImageId\"),results],axis = 1)\n",
    "\n",
    "submission3.to_csv(\"submission3.csv\",index=False)"
   ]
  },
  {
   "cell_type": "markdown",
   "metadata": {},
   "source": [
    "This new model give me *0.99414* instead of 0.99157 (525 on 2302). Huge improvement ! I advanced 240 places on the leaderboard, nice ! \n",
    "I will stop there for the moment but maybe later I'd try harder and explore things more deeply. We shall see. "
   ]
  },
  {
   "cell_type": "code",
   "execution_count": null,
   "metadata": {},
   "outputs": [],
   "source": []
  }
 ],
 "metadata": {
  "kernelspec": {
   "display_name": "Python 3",
   "language": "python",
   "name": "python3"
  },
  "language_info": {
   "codemirror_mode": {
    "name": "ipython",
    "version": 3
   },
   "file_extension": ".py",
   "mimetype": "text/x-python",
   "name": "python",
   "nbconvert_exporter": "python",
   "pygments_lexer": "ipython3",
   "version": "3.6.8"
  }
 },
 "nbformat": 4,
 "nbformat_minor": 2
}
